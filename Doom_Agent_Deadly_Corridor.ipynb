{
 "cells": [
  {
   "cell_type": "code",
   "execution_count": null,
   "id": "60f70a8b",
   "metadata": {},
   "outputs": [],
   "source": [
    "!pip install vizdoom\n",
    "!cd github/ & git clone https://github.com/mwydmuch/ViZdoom"
   ]
  },
  {
   "cell_type": "code",
   "execution_count": 1,
   "id": "4859aa83",
   "metadata": {},
   "outputs": [],
   "source": [
    "from vizdoom import *\n",
    "import random\n",
    "import time\n",
    "import numpy as np\n",
    "import matplotlib.pyplot as plt\n",
    "from stable_baselines3.common.evaluation import evaluate_policy\n",
    "from gym import Env\n",
    "from gym.spaces import Discrete, Box\n",
    "import cv2\n",
    "from stable_baselines3.common import env_checker"
   ]
  },
  {
   "cell_type": "markdown",
   "id": "58cbfad6",
   "metadata": {},
   "source": [
    "# Random Agent"
   ]
  },
  {
   "cell_type": "code",
   "execution_count": 3,
   "id": "c21dd607",
   "metadata": {},
   "outputs": [],
   "source": [
    "game = DoomGame()\n",
    "game.load_config(\"github/ViZdoom/scenarios/deadly_corridor_s1.cfg\")  # Easy mode\n",
    "game.init()"
   ]
  },
  {
   "cell_type": "code",
   "execution_count": 4,
   "id": "e9f25286",
   "metadata": {},
   "outputs": [],
   "source": [
    "state = game.get_state()"
   ]
  },
  {
   "cell_type": "code",
   "execution_count": 6,
   "id": "98cfed39",
   "metadata": {
    "scrolled": false
   },
   "outputs": [
    {
     "name": "stdout",
     "output_type": "stream",
     "text": [
      "Result : -95.27561950683594\n"
     ]
    }
   ],
   "source": [
    "episodes = 1\n",
    "actions = np.eye(7,dtype=np.uint8)\n",
    "\n",
    "for episode in range(episodes):\n",
    "    game.new_episode()\n",
    "    while not game.is_episode_finished():\n",
    "        state = game.get_state()\n",
    "        img = state.screen_buffer\n",
    "        random_action = random.choice(actions)\n",
    "        reward = game.make_action(random_action)\n",
    "#         time.sleep(0.02)\n",
    "    print(\"Result :\", game.get_total_reward())\n",
    "#     time.sleep(2)\n",
    "game.close()\n"
   ]
  },
  {
   "cell_type": "markdown",
   "id": "6ae94488",
   "metadata": {},
   "source": [
    "# Wrapping Doom Game into a Gym Environment"
   ]
  },
  {
   "cell_type": "code",
   "execution_count": 2,
   "id": "2bd68dc5",
   "metadata": {},
   "outputs": [],
   "source": [
    "class VizDoomGym(Env):\n",
    "    def __init__(self,render=False, config=\"github/ViZdoom/scenarios/deadly_corridor_s1.cfg\"):\n",
    "        super().__init__()\n",
    "        self.game = DoomGame()\n",
    "        self.game.load_config(config)\n",
    "        \n",
    "        if render == False:\n",
    "            self.game.set_window_visible(False)\n",
    "        else:\n",
    "            self.game.set_window_visible(True)\n",
    "        \n",
    "        self.game.init()\n",
    "        self.observation_space = Box(low=0, high=255, shape=(85,160,1), dtype=np.uint8) \n",
    "        self.action_space = Discrete(7)\n",
    "        \n",
    "        self.damage_taken = 0\n",
    "        self.hitcount = 0\n",
    "        self.ammo = 52\n",
    "        \n",
    "    def step(self,action):\n",
    "        actions = np.eye(7, dtype=np.uint8)\n",
    "        movement_reward = self.game.make_action(actions[action],4)\n",
    "        reward = 0 \n",
    "        \n",
    "        if self.game.get_state():\n",
    "            state = self.game.get_state().screen_buffer\n",
    "            state = self.grayscale(state)\n",
    "            \n",
    "            health, damage_taken, hitcount, ammo = self.game.get_state().game_variables\n",
    "            \n",
    "            damage_taken_delta = self.damage_taken - damage_taken # Took damage -> negative reward\n",
    "            self.damage_taken = damage_taken \n",
    "            \n",
    "            hitcount_delta = hitcount - self.hitcount # Hit an ennemy -> positive reward  \n",
    "            self.hitcount = hitcount\n",
    "            \n",
    "            ammo_delta = ammo - self.ammo  # Wasted ammo -> negative reward\n",
    "            self.ammo = ammo  \n",
    "            \n",
    "            reward = movement_reward + damage_taken_delta*10 + hitcount_delta *200 + ammo_delta *5\n",
    "            info = ammo\n",
    "        else:\n",
    "            state = np.zeros(self.observation_space.shape)\n",
    "            info = 0\n",
    "            \n",
    "        info = {\"info\":info}\n",
    "        done = self.game.is_episode_finished()\n",
    "        return state, reward, done, info\n",
    "    \n",
    "    def render():\n",
    "        pass\n",
    "    \n",
    "    def reset(self):\n",
    "        self.game.new_episode()\n",
    "        state = self.game.get_state().screen_buffer\n",
    "        state = self.grayscale(state)\n",
    "        return state\n",
    "    \n",
    "    def grayscale(self,observation):\n",
    "        \"\"\"Grayscale, trim the bottom infos and reduce the number of pixels\"\"\"\n",
    "        gray = cv2.cvtColor(np.moveaxis(observation, 0, -1), cv2.COLOR_BGR2GRAY)\n",
    "        resize = cv2.resize(gray, (160,100), interpolation=cv2.INTER_CUBIC)\n",
    "        state = np.reshape(resize, (100,160,1))\n",
    "        state = state[:85, :]\n",
    "        return state\n",
    "    \n",
    "    def close(self):\n",
    "        self.game.close()"
   ]
  },
  {
   "cell_type": "markdown",
   "id": "d4af3ecf",
   "metadata": {},
   "source": [
    "# Train the model : Curriculum Learning (or simply said : increase the difficulty progressively)"
   ]
  },
  {
   "cell_type": "code",
   "execution_count": 3,
   "id": "9162a01f",
   "metadata": {},
   "outputs": [],
   "source": [
    "import os \n",
    "from stable_baselines3 import PPO\n",
    "from stable_baselines3.common.callbacks import BaseCallback"
   ]
  },
  {
   "cell_type": "code",
   "execution_count": 4,
   "id": "f5bb3139",
   "metadata": {},
   "outputs": [],
   "source": [
    "class TrainAndLoggingCallback(BaseCallback):\n",
    "\n",
    "    def __init__(self, check_freq, save_path, verbose=1):\n",
    "        super(TrainAndLoggingCallback, self).__init__(verbose)\n",
    "        self.check_freq = check_freq\n",
    "        self.save_path = save_path\n",
    "\n",
    "    def _init_callback(self):\n",
    "        if self.save_path is not None:\n",
    "            os.makedirs(self.save_path, exist_ok=True)\n",
    "\n",
    "    def _on_step(self):\n",
    "        if self.n_calls % self.check_freq == 0:\n",
    "            model_path = os.path.join(self.save_path, 'best_model_{}'.format(self.n_calls))\n",
    "            self.model.save(model_path)\n",
    "        return True"
   ]
  },
  {
   "cell_type": "code",
   "execution_count": 5,
   "id": "6c3552ba",
   "metadata": {},
   "outputs": [],
   "source": [
    "CHECKPOINT_DIR = './train/train_deadly_corridor'\n",
    "LOG_DIR = './logs/log_deadly_corridor'"
   ]
  },
  {
   "cell_type": "code",
   "execution_count": 6,
   "id": "27c278ce",
   "metadata": {},
   "outputs": [],
   "source": [
    "callback = TrainAndLoggingCallback(check_freq=20000, save_path=CHECKPOINT_DIR)"
   ]
  },
  {
   "cell_type": "code",
   "execution_count": null,
   "id": "e8547c81",
   "metadata": {},
   "outputs": [],
   "source": [
    "env = VizDoomGym(config='github/VizDoom/scenarios/deadly_corridor_s1.cfg')\n",
    "model = PPO('CnnPolicy', env, tensorboard_log=LOG_DIR, verbose=1, learning_rate=0.00001, n_steps=8192, clip_range=.1, gamma=.95, gae_lambda=.9)"
   ]
  },
  {
   "cell_type": "code",
   "execution_count": null,
   "id": "b24561cb",
   "metadata": {},
   "outputs": [],
   "source": [
    "model.learn(total_timesteps=40000, callback=callback)"
   ]
  },
  {
   "cell_type": "code",
   "execution_count": null,
   "id": "61eb2a05",
   "metadata": {},
   "outputs": [],
   "source": [
    "env = VizDoomGym(config='github/VizDoom/scenarios/deadly_corridor_s2.cfg')\n",
    "model.set_env(env)\n",
    "model.learn(total_timesteps=40000, callback=callback)"
   ]
  },
  {
   "cell_type": "code",
   "execution_count": null,
   "id": "f850d7f1",
   "metadata": {},
   "outputs": [],
   "source": [
    "env = VizDoomGym(config='github/VizDoom/scenarios/deadly_corridor_s3.cfg')\n",
    "model.set_env(env)\n",
    "model.learn(total_timesteps=40000, callback=callback)"
   ]
  },
  {
   "cell_type": "code",
   "execution_count": null,
   "id": "44b95a05",
   "metadata": {},
   "outputs": [],
   "source": [
    "env = VizDoomGym(config='github/VizDoom/scenarios/deadly_corridor_s4.cfg')\n",
    "model.set_env(env)\n",
    "model.learn(total_timesteps=40000, callback=callback)"
   ]
  },
  {
   "cell_type": "code",
   "execution_count": null,
   "id": "427da312",
   "metadata": {},
   "outputs": [],
   "source": [
    "env = VizDoomGym(config='github/VizDoom/scenarios/deadly_corridor_s5.cfg')\n",
    "model.set_env(env)\n",
    "model.learn(total_timesteps=100000, callback=callback)"
   ]
  },
  {
   "cell_type": "markdown",
   "id": "faeb5de2",
   "metadata": {},
   "source": [
    "# Test the model"
   ]
  },
  {
   "cell_type": "code",
   "execution_count": 15,
   "id": "20b7f4df",
   "metadata": {},
   "outputs": [],
   "source": [
    "model = PPO.load('./train/train_deadly_corridor/best_model_260000.zip')"
   ]
  },
  {
   "cell_type": "code",
   "execution_count": 23,
   "id": "84c969c4",
   "metadata": {},
   "outputs": [],
   "source": [
    "env = VizDoomGym(render=False)"
   ]
  },
  {
   "cell_type": "code",
   "execution_count": 24,
   "id": "54af9d11",
   "metadata": {},
   "outputs": [
    {
     "data": {
      "text/plain": [
       "'Mean reward : 996.0'"
      ]
     },
     "execution_count": 24,
     "metadata": {},
     "output_type": "execute_result"
    }
   ],
   "source": [
    "mean_reward, _ = evaluate_policy(model, env, n_eval_episodes=5)\n",
    "\"Mean reward : \" + str(mean_reward)"
   ]
  },
  {
   "cell_type": "code",
   "execution_count": 25,
   "id": "a0f1bcc6",
   "metadata": {},
   "outputs": [
    {
     "name": "stdout",
     "output_type": "stream",
     "text": [
      "Total Reward for episode 0 is -1523.982192993164\n",
      "Total Reward for episode 1 is -1238.3617095947266\n",
      "Total Reward for episode 2 is 1557.6107940673828\n",
      "Total Reward for episode 3 is 2408.5035858154297\n",
      "Total Reward for episode 4 is -667.1030426025391\n"
     ]
    }
   ],
   "source": [
    "for episode in range(5): \n",
    "    obs = env.reset()\n",
    "    done = False\n",
    "    total_reward = 0\n",
    "    while not done: \n",
    "        action, _ = model.predict(obs)\n",
    "        obs, reward, done, info = env.step(action)\n",
    "        time.sleep(0.05)\n",
    "        total_reward += reward\n",
    "    print('Total Reward for episode {} is {}'.format(episode, total_reward))\n",
    "    time.sleep(1)\n",
    "env.close()"
   ]
  }
 ],
 "metadata": {
  "kernelspec": {
   "display_name": "Python 3 (ipykernel)",
   "language": "python",
   "name": "python3"
  },
  "language_info": {
   "codemirror_mode": {
    "name": "ipython",
    "version": 3
   },
   "file_extension": ".py",
   "mimetype": "text/x-python",
   "name": "python",
   "nbconvert_exporter": "python",
   "pygments_lexer": "ipython3",
   "version": "3.10.9"
  }
 },
 "nbformat": 4,
 "nbformat_minor": 5
}
